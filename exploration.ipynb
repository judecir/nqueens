{
 "cells": [
  {
   "cell_type": "code",
   "execution_count": 1,
   "id": "bf031b69",
   "metadata": {},
   "outputs": [],
   "source": [
    "from cp_nqueens import *\n",
    "from nqueens import *\n",
    "from mip_nqueens import *"
   ]
  },
  {
   "cell_type": "code",
   "execution_count": 2,
   "id": "0c678c6a",
   "metadata": {},
   "outputs": [
    {
     "name": "stdout",
     "output_type": "stream",
     "text": [
      "8-Queens Problem\n"
     ]
    }
   ],
   "source": [
    "problem1 = Nqueens(8)\n",
    "print(problem1)\n",
    "#print(problem1.solve())"
   ]
  },
  {
   "cell_type": "code",
   "execution_count": 3,
   "id": "846ac418",
   "metadata": {},
   "outputs": [
    {
     "name": "stdout",
     "output_type": "stream",
     "text": [
      "8-Queens Problem\n"
     ]
    }
   ],
   "source": [
    "cp = CP_NQueens(problem1)\n",
    "print(cp)"
   ]
  },
  {
   "cell_type": "code",
   "execution_count": 4,
   "id": "7c2d42e7",
   "metadata": {},
   "outputs": [
    {
     "name": "stdout",
     "output_type": "stream",
     "text": [
      "Optimal\n",
      "[8, 4, 1, 3, 6, 2, 7, 5]\n"
     ]
    },
    {
     "data": {
      "text/plain": [
       "4"
      ]
     },
     "execution_count": 4,
     "metadata": {},
     "output_type": "execute_result"
    }
   ],
   "source": [
    "cp.solve()"
   ]
  },
  {
   "cell_type": "code",
   "execution_count": 5,
   "id": "6d1e57de",
   "metadata": {},
   "outputs": [],
   "source": [
    "mip = MIP_NQueens(problem1)"
   ]
  },
  {
   "cell_type": "code",
   "execution_count": 6,
   "id": "134f0240",
   "metadata": {},
   "outputs": [
    {
     "name": "stdout",
     "output_type": "stream",
     "text": [
      "Solving\n",
      "Optimal\n",
      "[1.0, 0.0, 0.0, 0.0, 0.0, 0.0, 0.0, 0.0, 0.0, 1.0, 0.0, 0.0, 0.0, 0.0, 0.0, 0.0, 0.0, 0.0, 1.0, 0.0, 0.0, 0.0, 0.0, 0.0, 0.0, 0.0, 0.0, 1.0, 0.0, 0.0, 0.0, 0.0, 0.0, 0.0, 0.0, 0.0, 1.0, 0.0, 0.0, 0.0, 0.0, 0.0, 0.0, 0.0, 0.0, 1.0, 0.0, 0.0, 0.0, 0.0, 0.0, 0.0, 0.0, 0.0, 1.0, 0.0, 0.0, 0.0, 0.0, 0.0, 0.0, 0.0, 0.0, 1.0]\n"
     ]
    },
    {
     "data": {
      "text/plain": [
       "0"
      ]
     },
     "execution_count": 6,
     "metadata": {},
     "output_type": "execute_result"
    }
   ],
   "source": [
    "mip.solve()"
   ]
  },
  {
   "cell_type": "code",
   "execution_count": null,
   "id": "b240858a",
   "metadata": {},
   "outputs": [],
   "source": []
  }
 ],
 "metadata": {
  "kernelspec": {
   "display_name": "Python 3 (ipykernel)",
   "language": "python",
   "name": "python3"
  },
  "language_info": {
   "codemirror_mode": {
    "name": "ipython",
    "version": 3
   },
   "file_extension": ".py",
   "mimetype": "text/x-python",
   "name": "python",
   "nbconvert_exporter": "python",
   "pygments_lexer": "ipython3",
   "version": "3.9.7"
  }
 },
 "nbformat": 4,
 "nbformat_minor": 5
}
